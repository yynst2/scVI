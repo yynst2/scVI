{
 "cells": [
  {
   "cell_type": "markdown",
   "metadata": {
    "pycharm": {}
   },
   "source": [
    "# Introduction to gimVI\n",
    "## Impute missing genes in Spatial Data from Sequencing Data"
   ]
  },
  {
   "cell_type": "code",
   "execution_count": 11,
   "metadata": {
    "ExecuteTime": {
     "end_time": "2019-07-04T02:48:01.686041Z",
     "start_time": "2019-07-04T02:48:01.681842Z"
    },
    "pycharm": {}
   },
   "outputs": [],
   "source": [
    "import sys\n",
    "\n",
    "sys.path.append(\"../../\")\n",
    "sys.path.append(\"../\")"
   ]
  },
  {
   "cell_type": "code",
   "execution_count": 12,
   "metadata": {
    "ExecuteTime": {
     "end_time": "2019-07-04T02:48:01.716333Z",
     "start_time": "2019-07-04T02:48:01.713433Z"
    },
    "pycharm": {}
   },
   "outputs": [],
   "source": [
    "def allow_notebook_for_test():\n",
    "    print(\"Testing the gimvi notebook\")\n",
    "\n",
    "\n",
    "test_mode = False\n",
    "show_plot = True\n",
    "save_path = \"data/\"\n",
    "\n",
    "\n",
    "def if_not_test_else(x, y):\n",
    "    if not test_mode:\n",
    "        return x\n",
    "    else:\n",
    "        return y\n",
    "\n",
    "\n",
    "if not test_mode:\n",
    "    %matplotlib inline\n",
    "    save_path = \"../../data\""
   ]
  },
  {
   "cell_type": "code",
   "execution_count": 13,
   "metadata": {
    "ExecuteTime": {
     "end_time": "2019-07-04T02:48:04.489514Z",
     "start_time": "2019-07-04T02:48:01.743504Z"
    },
    "pycharm": {}
   },
   "outputs": [],
   "source": [
    "import scanpy\n",
    "import anndata\n",
    "\n",
    "from scvi.dataset import (\n",
    "    prefrontalcortex_starmap,\n",
    "    frontalcortex_dropseq,\n",
    "    smfish,\n",
    "    cortex,\n",
    "    setup_anndata\n",
    ")\n",
    "from scvi.models import JVAE, Classifier\n",
    "from scvi.inference import JVAETrainer\n",
    "\n",
    "import notebooks.utils.gimvi_tutorial as gimvi_utils\n",
    "import numpy as np\n",
    "import copy"
   ]
  },
  {
   "cell_type": "markdown",
   "metadata": {
    "pycharm": {}
   },
   "source": [
    "## Load two datasets: one with spatial data, one from sequencing"
   ]
  },
  {
   "cell_type": "markdown",
   "metadata": {
    "pycharm": {}
   },
   "source": [
    "Here we load: \n",
    "- **Cortex**: a scRNA-seq dataset of 3,005 mouse somatosensory cortex cells (Zeisel et al., 2015)\n",
    "- **osmFISH**: a smFISH dataset of 4,462 cells and 33 genes from the same tissue (Codeluppi et al., 2018)"
   ]
  },
  {
   "cell_type": "code",
   "execution_count": 4,
   "metadata": {
    "ExecuteTime": {
     "end_time": "2019-07-04T02:48:14.444096Z",
     "start_time": "2019-07-04T02:48:04.496321Z"
    },
    "pycharm": {}
   },
   "outputs": [
    {
     "name": "stdout",
     "output_type": "stream",
     "text": [
      "[2020-07-13 22:05:56,939] INFO - scvi.dataset._utils | File /Users/galen/scVI/data/osmFISH_SScortex_mouse_all_cell.loom already downloaded\n",
      "[2020-07-13 22:05:56,940] INFO - scvi.dataset.smfish | Loading smFISH dataset\n",
      "[2020-07-13 22:05:57,001] INFO - scvi.dataset._utils | File /Users/galen/scVI/data/expression.bin already downloaded\n",
      "[2020-07-13 22:05:57,002] INFO - scvi.dataset.cortex | Loading Cortex data from /Users/galen/scVI/data/expression.bin\n",
      "[2020-07-13 22:06:05,468] INFO - scvi.dataset.cortex | Finished loading Cortex data\n"
     ]
    },
    {
     "name": "stderr",
     "output_type": "stream",
     "text": [
      "/Users/galen/anaconda3/envs/scvi/lib/python3.6/site-packages/anndata/_core/anndata.py:119: ImplicitModificationWarning: Transforming to str index.\n",
      "  warnings.warn(\"Transforming to str index.\", ImplicitModificationWarning)\n"
     ]
    }
   ],
   "source": [
    "data_spatial = smfish(save_path=save_path, use_high_level_cluster = True)\n",
    "data_spatial.obs['batch'] = np.zeros(data_spatial.shape[0])\n",
    "\n",
    "data_seq_labels_key = \"labels\"\n",
    "data_spatial_labels_key = \"labels\"\n",
    "\n",
    "data_seq_cell_type_key = 'cell_type'\n",
    "data_spatial_cell_type_key = 'str_labels'\n",
    "\n",
    "data_seq = cortex(save_path=save_path)\n",
    "print('test_mode')\n",
    "print(test_mode)\n",
    "if test_mode:\n",
    "    data_seq = data_spatial.copy()\n",
    "    data_seq_labels_key = data_spatial_labels_key\n",
    "    data_seq_cell_type_key = data_spatial_cell_type_key"
   ]
  },
  {
   "cell_type": "markdown",
   "metadata": {
    "pycharm": {}
   },
   "source": [
    "- **FrontalCortexDropseq**: a scRNA-seq dataset of 71,639 mouse frontal cortex cells (Saunders et al., 2018)\n",
    "- **PreFrontalCortexStarmap**: a starMAP dataset of 3,704 cells and 166 genes from the mouse pre-frontal cortex (Wang et al., 2018)\n"
   ]
  },
  {
   "cell_type": "code",
   "execution_count": 5,
   "metadata": {
    "ExecuteTime": {
     "end_time": "2019-07-04T02:48:14.452050Z",
     "start_time": "2019-07-04T02:48:14.446311Z"
    },
    "pycharm": {}
   },
   "outputs": [],
   "source": [
    "# data_spatial = prefrontalcortex_starmap(save_path=save_path)\n",
    "# data_seq = frontalcortex_dropseq(save_path=save_path)\n",
    "\n",
    "# data_seq_labels_key = 'Clusters'\n",
    "# data_spatial_labels_key = 'labels'\n",
    "\n",
    "# data_seq_cell_type_key = 'CellTypes'\n",
    "# data_seq.obs[data_seq_cell_type_key] = [data_seq.uns['CellTypes'][i] for i in data_seq.obs['Clusters']]\n",
    "# data_spatial_cell_type_key = 'labels'\n",
    "\n",
    "# scanpy.pp.subsample(data_seq, n_obs = 5000)"
   ]
  },
  {
   "cell_type": "markdown",
   "metadata": {
    "pycharm": {}
   },
   "source": [
    "**Hide some genes in the osFISH dataset to score the imputation**"
   ]
  },
  {
   "cell_type": "code",
   "execution_count": 6,
   "metadata": {},
   "outputs": [],
   "source": [
    "data_seq = data_seq[:, data_spatial.var_names].copy()\n",
    "scanpy.pp.filter_cells(data_spatial, min_counts= 1)\n",
    "scanpy.pp.filter_cells(data_seq, min_counts = 1)"
   ]
  },
  {
   "cell_type": "code",
   "execution_count": 7,
   "metadata": {
    "ExecuteTime": {
     "end_time": "2019-07-04T02:48:14.464435Z",
     "start_time": "2019-07-04T02:48:14.454103Z"
    },
    "pycharm": {}
   },
   "outputs": [
    {
     "name": "stdout",
     "output_type": "stream",
     "text": [
      "[2020-07-13 22:06:05,753] INFO - scvi.dataset._anndata | Using data from adata.X\n",
      "[2020-07-13 22:06:05,754] INFO - scvi.dataset._anndata | No batch_key inputted, assuming all cells are same batch\n",
      "[2020-07-13 22:06:05,762] INFO - scvi.dataset._anndata | Using labels from adata.obs[\"labels\"]\n",
      "[2020-07-13 22:06:05,763] INFO - scvi.dataset._anndata | Computing library size prior per batch\n",
      "[2020-07-13 22:06:05,768] INFO - scvi.dataset._anndata | Successfully registered anndata object containing 2996 cells, 33 genes, and 1 batches \n",
      "Registered keys:['X', 'batch_indices', 'local_l_mean', 'local_l_var', 'labels']\n",
      "[2020-07-13 22:06:05,771] INFO - scvi.dataset._anndata | Using data from adata.X\n",
      "[2020-07-13 22:06:05,771] INFO - scvi.dataset._anndata | Using batches from adata.obs[\"batch\"]\n",
      "[2020-07-13 22:06:05,774] INFO - scvi.dataset._anndata | Using labels from adata.obs[\"labels\"]\n",
      "[2020-07-13 22:06:05,775] INFO - scvi.dataset._anndata | Computing library size prior per batch\n",
      "[2020-07-13 22:06:05,781] INFO - scvi.dataset._anndata | Successfully registered anndata object containing 4530 cells, 26 genes, and 1 batches \n",
      "Registered keys:['X', 'batch_indices', 'local_l_mean', 'local_l_var', 'labels']\n"
     ]
    }
   ],
   "source": [
    "train_size = 0.8\n",
    "\n",
    "gene_names_rnaseq = data_seq.var_names\n",
    "np.random.seed(0)\n",
    "n_genes = len(gene_names_rnaseq)\n",
    "gene_ids_train = sorted(\n",
    "    np.random.choice(range(n_genes), int(n_genes * train_size), False)\n",
    ")\n",
    "gene_ids_test = sorted(set(range(n_genes)) - set(gene_ids_train))\n",
    "\n",
    "gene_names_fish = gene_names_rnaseq[gene_ids_train]\n",
    "\n",
    "# Create copy of the fish dataset with hidden genes\n",
    "data_spatial_partial = data_spatial.copy()\n",
    "data_spatial_partial = data_spatial_partial[:, gene_names_fish].copy()\n",
    "\n",
    "setup_anndata(data_seq, labels_key=data_seq_labels_key)\n",
    "setup_anndata(data_spatial_partial,batch_key = 'batch', labels_key= data_spatial_labels_key )\n",
    "\n",
    "data_spatial_partial.obs['_scvi_batch'] += data_seq.uns['scvi_summary_stats']['n_batch']"
   ]
  },
  {
   "cell_type": "markdown",
   "metadata": {
    "pycharm": {}
   },
   "source": [
    "**Configure the Joint Model**\n",
    "The joint model can take multiple datasets with potentially different observed genes. \n",
    "All dataset will be encoded and decoded with the union of all genes.\n",
    "It requires:\n",
    "- The gene mappings from each dataset to the common decoded vector:\n",
    "    * *Eg: dataset1 has genes ['a', 'b'] and dataset2 has genes ['b', 'c'], then a possible output can be ['b', 'a', 'c'] such that the mappings are [1, 0] and [0, 2]*\n",
    "    * *Usually, if the genes of dataset2 are included in dataset1, it is way more efficient to keep the order of dataset1 in the output and use `slice(None)` as a mapping for dataset1*\n",
    "    \n",
    "- The number of inputs (ie) number of genes in each dataset\n",
    "- The distributions to use for the generative process: usually scRNA-seq is modelled with ZINB (because of technical dropout) and FISH with NB or even Poisson\n",
    "- Whether to model the library size with a latent variable or use the observed value"
   ]
  },
  {
   "cell_type": "code",
   "execution_count": 8,
   "metadata": {
    "ExecuteTime": {
     "end_time": "2019-07-04T02:48:14.469984Z",
     "start_time": "2019-07-04T02:48:14.466181Z"
    },
    "pycharm": {}
   },
   "outputs": [],
   "source": [
    "datasets = [data_seq, data_spatial_partial]\n",
    "generative_distributions = [\"zinb\", \"nb\"]\n",
    "gene_mappings = [slice(None), np.array(gene_ids_train)]\n",
    "n_inputs = [d.uns['scvi_summary_stats']['n_genes'] for d in datasets]\n",
    "total_genes = data_seq.uns['scvi_summary_stats']['n_genes']\n",
    "n_batches = sum([d.uns['scvi_summary_stats']['n_batch'] for d in datasets])\n",
    "\n",
    "model_library_size = [True, False]\n",
    "\n",
    "n_latent = 8\n",
    "kappa = 1"
   ]
  },
  {
   "cell_type": "code",
   "execution_count": 9,
   "metadata": {
    "ExecuteTime": {
     "end_time": "2019-07-04T02:48:16.454723Z",
     "start_time": "2019-07-04T02:48:14.472685Z"
    },
    "pycharm": {}
   },
   "outputs": [],
   "source": [
    "import torch\n",
    "\n",
    "torch.manual_seed(0)\n",
    "\n",
    "model = JVAE(\n",
    "    n_inputs,\n",
    "    total_genes,\n",
    "    gene_mappings,\n",
    "    generative_distributions,\n",
    "    model_library_size,\n",
    "    n_layers_decoder_individual=0,\n",
    "    n_layers_decoder_shared=0,\n",
    "    n_layers_encoder_individual=1,\n",
    "    n_layers_encoder_shared=1,\n",
    "    dim_hidden_encoder=64,\n",
    "    dim_hidden_decoder_shared=64,\n",
    "    dropout_rate_encoder=0.2,\n",
    "    dropout_rate_decoder=0.2,\n",
    "    n_batch=n_batches,\n",
    "    n_latent=n_latent,\n",
    ")\n",
    "\n",
    "discriminator = Classifier(n_latent, 32, 2, 3, logits=True)\n",
    "\n",
    "trainer = JVAETrainer(model, discriminator, datasets, 0.95, frequency=1, kappa=kappa)"
   ]
  },
  {
   "cell_type": "code",
   "execution_count": 10,
   "metadata": {
    "ExecuteTime": {
     "end_time": "2019-07-04T02:52:07.484514Z",
     "start_time": "2019-07-04T02:48:16.456496Z"
    },
    "pycharm": {}
   },
   "outputs": [
    {
     "data": {
      "application/vnd.jupyter.widget-view+json": {
       "model_id": "f168e2b1a43445d6af836d69875c0f26",
       "version_major": 2,
       "version_minor": 0
      },
      "text/plain": [
       "HBox(children=(FloatProgress(value=0.0, description='training', max=1.0, style=ProgressStyle(description_width…"
      ]
     },
     "metadata": {},
     "output_type": "display_data"
    },
    {
     "name": "stdout",
     "output_type": "stream",
     "text": [
      "\n"
     ]
    }
   ],
   "source": [
    "n_epochs = if_not_test_else(200, 1)\n",
    "trainer.train(n_epochs=n_epochs)"
   ]
  },
  {
   "cell_type": "code",
   "execution_count": 11,
   "metadata": {},
   "outputs": [],
   "source": [
    "latent_seq, latent_spatial = trainer.get_latent()\n",
    "\n",
    "latent_representation = np.concatenate([latent_seq, latent_spatial])\n",
    "\n",
    "latent_adata = anndata.AnnData(latent_representation)\n",
    "latent_labels = (['seq'] * latent_seq.shape[0]) + (['spatial'] * latent_spatial.shape[0])\n",
    "latent_adata.obs['labels'] = latent_labels"
   ]
  },
  {
   "cell_type": "code",
   "execution_count": 12,
   "metadata": {},
   "outputs": [],
   "source": [
    "scanpy.pp.neighbors(latent_adata)\n",
    "scanpy.tl.umap(latent_adata)"
   ]
  },
  {
   "cell_type": "code",
   "execution_count": 13,
   "metadata": {},
   "outputs": [],
   "source": [
    "data_seq.obsm['X_umap'] = latent_adata.obsm['X_umap'][:data_seq.shape[0]]\n",
    "data_spatial.obsm['X_umap'] = latent_adata.obsm['X_umap'][data_seq.shape[0]:]"
   ]
  },
  {
   "cell_type": "code",
   "execution_count": 14,
   "metadata": {},
   "outputs": [
    {
     "ename": "NameError",
     "evalue": "name 'latent_adata' is not defined",
     "output_type": "error",
     "traceback": [
      "\u001b[0;31m---------------------------------------------------------------------------\u001b[0m",
      "\u001b[0;31mNameError\u001b[0m                                 Traceback (most recent call last)",
      "\u001b[0;32m<ipython-input-14-e325d001771a>\u001b[0m in \u001b[0;36m<module>\u001b[0;34m\u001b[0m\n\u001b[1;32m      1\u001b[0m \u001b[0;32mif\u001b[0m \u001b[0;32mnot\u001b[0m \u001b[0mtest_mode\u001b[0m\u001b[0;34m:\u001b[0m\u001b[0;34m\u001b[0m\u001b[0;34m\u001b[0m\u001b[0m\n\u001b[0;32m----> 2\u001b[0;31m     \u001b[0mscanpy\u001b[0m\u001b[0;34m.\u001b[0m\u001b[0mpl\u001b[0m\u001b[0;34m.\u001b[0m\u001b[0mumap\u001b[0m\u001b[0;34m(\u001b[0m\u001b[0mlatent_adata\u001b[0m\u001b[0;34m,\u001b[0m \u001b[0mcolor\u001b[0m \u001b[0;34m=\u001b[0m \u001b[0;34m'labels'\u001b[0m\u001b[0;34m)\u001b[0m\u001b[0;34m\u001b[0m\u001b[0;34m\u001b[0m\u001b[0m\n\u001b[0m\u001b[1;32m      3\u001b[0m     \u001b[0mscanpy\u001b[0m\u001b[0;34m.\u001b[0m\u001b[0mpl\u001b[0m\u001b[0;34m.\u001b[0m\u001b[0mumap\u001b[0m\u001b[0;34m(\u001b[0m\u001b[0mdata_seq\u001b[0m\u001b[0;34m,\u001b[0m \u001b[0mcolor\u001b[0m \u001b[0;34m=\u001b[0m \u001b[0mdata_seq_cell_type_key\u001b[0m\u001b[0;34m)\u001b[0m\u001b[0;34m\u001b[0m\u001b[0;34m\u001b[0m\u001b[0m\n\u001b[1;32m      4\u001b[0m     \u001b[0mscanpy\u001b[0m\u001b[0;34m.\u001b[0m\u001b[0mpl\u001b[0m\u001b[0;34m.\u001b[0m\u001b[0mumap\u001b[0m\u001b[0;34m(\u001b[0m\u001b[0mdata_spatial\u001b[0m\u001b[0;34m,\u001b[0m \u001b[0mcolor\u001b[0m \u001b[0;34m=\u001b[0m \u001b[0mdata_spatial_cell_type_key\u001b[0m\u001b[0;34m)\u001b[0m\u001b[0;34m\u001b[0m\u001b[0;34m\u001b[0m\u001b[0m\n",
      "\u001b[0;31mNameError\u001b[0m: name 'latent_adata' is not defined"
     ]
    }
   ],
   "source": [
    "scanpy.pl.umap(latent_adata, color = 'labels', show = show_plot)"
   ]
  },
  {
   "cell_type": "code",
   "execution_count": null,
   "metadata": {},
   "outputs": [],
   "source": [
    "scanpy.pl.umap(data_seq, color = data_seq_cell_type_key, show = show_plot)\n"
   ]
  },
  {
   "cell_type": "code",
   "execution_count": null,
   "metadata": {},
   "outputs": [],
   "source": [
    "scanpy.pl.umap(data_spatial, color = data_spatial_cell_type_key, show = show_plot)\n"
   ]
  },
  {
   "cell_type": "code",
   "execution_count": 17,
   "metadata": {
    "ExecuteTime": {
     "end_time": "2019-07-04T02:52:36.979392Z",
     "start_time": "2019-07-04T02:52:36.854057Z"
    },
    "pycharm": {}
   },
   "outputs": [
    {
     "data": {
      "text/plain": [
       "-0.015697035454556942"
      ]
     },
     "execution_count": 17,
     "metadata": {},
     "output_type": "execute_result"
    }
   ],
   "source": [
    "gimvi_utils.imputation_score(trainer, data_spatial, gene_ids_test, True)"
   ]
  },
  {
   "cell_type": "markdown",
   "metadata": {
    "pycharm": {}
   },
   "source": [
    "### Plot imputation for *LAMP5*, hidden in the training"
   ]
  },
  {
   "cell_type": "code",
   "execution_count": 18,
   "metadata": {
    "ExecuteTime": {
     "end_time": "2019-07-04T02:52:37.307612Z",
     "start_time": "2019-07-04T02:52:36.981367Z"
    },
    "pycharm": {}
   },
   "outputs": [
    {
     "data": {
      "image/png": "[encoded data removed]",
      "text/plain": [
       "<Figure size 432x288 with 2 Axes>"
      ]
     },
     "metadata": {
      "needs_background": "light"
     },
     "output_type": "display_data"
    }
   ],
   "source": [
    "gimvi_utils.plot_gene_spatial(trainer, data_spatial, 9)"
   ]
  },
  {
   "cell_type": "markdown",
   "metadata": {},
   "source": [
    "### Inspect classification accuracy (we expect a uniform matrix)\n",
    "If the matrix is diagonal, the `kappa` needs to be scaled up to ensure mixing."
   ]
  },
  {
   "cell_type": "code",
   "execution_count": 34,
   "metadata": {},
   "outputs": [
    {
     "data": {
      "text/plain": [
       "array([[0.4866517 , 0.5133502 ],\n",
       "       [0.5067717 , 0.49322832]], dtype=float32)"
      ]
     },
     "execution_count": 34,
     "metadata": {},
     "output_type": "execute_result"
    }
   ],
   "source": [
    "discriminator_classification = trainer.get_discriminator_confusion()\n",
    "discriminator_classification"
   ]
  },
  {
   "cell_type": "code",
   "execution_count": 35,
   "metadata": {},
   "outputs": [
    {
     "data": {
      "text/html": [
       "<div>\n",
       "<style scoped>\n",
       "    .dataframe tbody tr th:only-of-type {\n",
       "        vertical-align: middle;\n",
       "    }\n",
       "\n",
       "    .dataframe tbody tr th {\n",
       "        vertical-align: top;\n",
       "    }\n",
       "\n",
       "    .dataframe thead th {\n",
       "        text-align: right;\n",
       "    }\n",
       "</style>\n",
       "<table border=\"1\" class=\"dataframe\">\n",
       "  <thead>\n",
       "    <tr style=\"text-align: right;\">\n",
       "      <th>Dataset</th>\n",
       "      <th>Sequencing</th>\n",
       "      <th>Spatial</th>\n",
       "    </tr>\n",
       "    <tr>\n",
       "      <th>Loss</th>\n",
       "      <th></th>\n",
       "      <th></th>\n",
       "    </tr>\n",
       "  </thead>\n",
       "  <tbody>\n",
       "    <tr>\n",
       "      <th>reconstruction</th>\n",
       "      <td>29741.873959</td>\n",
       "      <td>85337.724319</td>\n",
       "    </tr>\n",
       "    <tr>\n",
       "      <th>kl_divergence</th>\n",
       "      <td>32446.235096</td>\n",
       "      <td>27534.217571</td>\n",
       "    </tr>\n",
       "    <tr>\n",
       "      <th>discriminator</th>\n",
       "      <td>389.413373</td>\n",
       "      <td>386.201046</td>\n",
       "    </tr>\n",
       "  </tbody>\n",
       "</table>\n",
       "</div>"
      ],
      "text/plain": [
       "Dataset           Sequencing       Spatial\n",
       "Loss                                      \n",
       "reconstruction  29741.873959  85337.724319\n",
       "kl_divergence   32446.235096  27534.217571\n",
       "discriminator     389.413373    386.201046"
      ]
     },
     "execution_count": 35,
     "metadata": {},
     "output_type": "execute_result"
    }
   ],
   "source": [
    "import pandas as pd\n",
    "\n",
    "results = pd.DataFrame(\n",
    "    trainer.get_loss_magnitude(),\n",
    "    index=[\"reconstruction\", \"kl_divergence\", \"discriminator\"],\n",
    "    columns=[\"Sequencing\", \"Spatial\"],\n",
    ")\n",
    "results.columns.name = \"Dataset\"\n",
    "results.index.name = \"Loss\"\n",
    "results"
   ]
  },
  {
   "cell_type": "code",
   "execution_count": null,
   "metadata": {},
   "outputs": [],
   "source": []
  }
 ],
 "metadata": {
  "kernelspec": {
   "display_name": "Python scvi",
   "language": "python",
   "name": "scvi"
  },
  "language_info": {
   "codemirror_mode": {
    "name": "ipython",
    "version": 3
   },
   "file_extension": ".py",
   "mimetype": "text/x-python",
   "name": "python",
   "nbconvert_exporter": "python",
   "pygments_lexer": "ipython3",
   "version": "3.6.10-final"
  }
 },
 "nbformat": 4,
 "nbformat_minor": 4
}
